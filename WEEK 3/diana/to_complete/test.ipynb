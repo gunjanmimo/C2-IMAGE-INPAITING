{
 "cells": [
  {
   "cell_type": "code",
   "execution_count": 7,
   "metadata": {},
   "outputs": [
    {
     "name": "stderr",
     "output_type": "stream",
     "text": [
      "/var/folders/lv/dz4h_s412yg9zb37kn7v1r580000gn/T/ipykernel_3281/3833319899.py:4: DeprecationWarning: Please use `gaussian_filter` from the `scipy.ndimage` namespace, the `scipy.ndimage.filters` namespace is deprecated.\n",
      "  from scipy.ndimage.filters import gaussian_filter\n"
     ]
    },
    {
     "ename": "ModuleNotFoundError",
     "evalue": "No module named 'tqdm'",
     "output_type": "error",
     "traceback": [
      "\u001b[0;31m---------------------------------------------------------------------------\u001b[0m",
      "\u001b[0;31mModuleNotFoundError\u001b[0m                       Traceback (most recent call last)",
      "\u001b[1;32m/Users/dianatat/Documents/Master/C2 Optimisation techniques for CV/Project/week3/to_complete/test.ipynb Cell 1\u001b[0m line \u001b[0;36m5\n\u001b[1;32m      <a href='vscode-notebook-cell:/Users/dianatat/Documents/Master/C2%20Optimisation%20techniques%20for%20CV/Project/week3/to_complete/test.ipynb#W3sZmlsZQ%3D%3D?line=2'>3</a>\u001b[0m \u001b[39mfrom\u001b[39;00m \u001b[39mscipy\u001b[39;00m\u001b[39m.\u001b[39;00m\u001b[39mndimage\u001b[39;00m \u001b[39mimport\u001b[39;00m distance_transform_edt\n\u001b[1;32m      <a href='vscode-notebook-cell:/Users/dianatat/Documents/Master/C2%20Optimisation%20techniques%20for%20CV/Project/week3/to_complete/test.ipynb#W3sZmlsZQ%3D%3D?line=3'>4</a>\u001b[0m \u001b[39mfrom\u001b[39;00m \u001b[39mscipy\u001b[39;00m\u001b[39m.\u001b[39;00m\u001b[39mndimage\u001b[39;00m\u001b[39m.\u001b[39;00m\u001b[39mfilters\u001b[39;00m \u001b[39mimport\u001b[39;00m gaussian_filter\n\u001b[0;32m----> <a href='vscode-notebook-cell:/Users/dianatat/Documents/Master/C2%20Optimisation%20techniques%20for%20CV/Project/week3/to_complete/test.ipynb#W3sZmlsZQ%3D%3D?line=4'>5</a>\u001b[0m \u001b[39mimport\u001b[39;00m \u001b[39mtqdm\u001b[39;00m\n",
      "\u001b[0;31mModuleNotFoundError\u001b[0m: No module named 'tqdm'"
     ]
    }
   ],
   "source": [
    "import numpy as np\n",
    "import matplotlib.pyplot as plt\n",
    "from scipy.ndimage import distance_transform_edt\n",
    "from scipy.ndimage.filters import gaussian_filter\n",
    "import tqdm\n"
   ]
  },
  {
   "cell_type": "code",
   "execution_count": 5,
   "metadata": {},
   "outputs": [],
   "source": [
    "\n",
    "def initialize_phi(image_shape, type='checkerboard'):\n",
    "    if type == 'checkerboard':\n",
    "        phi = np.array([[(-1)**(i+j) for j in range(image_shape[1])] for i in range(image_shape[0])])\n",
    "    elif type == 'circle':\n",
    "        center = (image_shape[0] // 2, image_shape[1] // 2)\n",
    "        radius = min(center)\n",
    "        phi = np.array([[radius - np.sqrt((i-center[0])**2 + (j-center[1])**2) for j in range(image_shape[1])] for i in range(image_shape[0])])\n",
    "    return phi\n",
    "\n",
    "def reinitialize_phi(phi, iterations=10):\n",
    "    binary_mask = (phi <= 0).astype(np.int32)\n",
    "    positive_distance = distance_transform_edt(binary_mask)\n",
    "    negative_distance = distance_transform_edt(1 - binary_mask)\n",
    "    signed_distance = positive_distance - negative_distance\n",
    "    for _ in range(iterations):\n",
    "        signed_distance = gaussian_filter(signed_distance, sigma=1)\n",
    "    return signed_distance\n",
    "\n",
    "def chan_vese_evolution(image, phi, lambda1, lambda2, mu, nu, dt, num_iterations):\n",
    "    for _ in tqdm(range(num_iterations)):\n",
    "        c1 = np.mean(image[phi <= 0])\n",
    "        c2 = np.mean(image[phi > 0])\n",
    "        force = mu * (4*image - 2*c1 - 2*c2) - nu\n",
    "        phi = phi + dt * force\n",
    "        if _ % 50 == 0:\n",
    "            phi = reinitialize_phi(phi)\n",
    "    return phi\n",
    "\n",
    "def extract_segmentation(phi):\n",
    "    return np.where(phi <= 0, 1, 0)\n",
    "\n"
   ]
  },
  {
   "cell_type": "code",
   "execution_count": 6,
   "metadata": {},
   "outputs": [
    {
     "ename": "NameError",
     "evalue": "name 'tqdm' is not defined",
     "output_type": "error",
     "traceback": [
      "\u001b[0;31m---------------------------------------------------------------------------\u001b[0m",
      "\u001b[0;31mNameError\u001b[0m                                 Traceback (most recent call last)",
      "\u001b[1;32m/Users/dianatat/Documents/Master/C2 Optimisation techniques for CV/Project/week3/to_complete/test.ipynb Cell 3\u001b[0m line \u001b[0;36m5\n\u001b[1;32m      <a href='vscode-notebook-cell:/Users/dianatat/Documents/Master/C2%20Optimisation%20techniques%20for%20CV/Project/week3/to_complete/test.ipynb#W1sZmlsZQ%3D%3D?line=1'>2</a>\u001b[0m image \u001b[39m=\u001b[39m plt\u001b[39m.\u001b[39mimread(\u001b[39m\"\u001b[39m\u001b[39m/Users/dianatat/Documents/Master/C2 Optimisation techniques for CV/Project/week3/to_complete/image.jpeg\u001b[39m\u001b[39m\"\u001b[39m)[:,:,\u001b[39m0\u001b[39m]  \u001b[39m# Assuming a grayscale image or converting it to grayscale\u001b[39;00m\n\u001b[1;32m      <a href='vscode-notebook-cell:/Users/dianatat/Documents/Master/C2%20Optimisation%20techniques%20for%20CV/Project/week3/to_complete/test.ipynb#W1sZmlsZQ%3D%3D?line=3'>4</a>\u001b[0m phi \u001b[39m=\u001b[39m initialize_phi(image\u001b[39m.\u001b[39mshape, \u001b[39mtype\u001b[39m\u001b[39m=\u001b[39m\u001b[39m'\u001b[39m\u001b[39mcheckerboard\u001b[39m\u001b[39m'\u001b[39m)\n\u001b[0;32m----> <a href='vscode-notebook-cell:/Users/dianatat/Documents/Master/C2%20Optimisation%20techniques%20for%20CV/Project/week3/to_complete/test.ipynb#W1sZmlsZQ%3D%3D?line=4'>5</a>\u001b[0m phi \u001b[39m=\u001b[39m chan_vese_evolution(image, phi, lambda1\u001b[39m=\u001b[39;49m\u001b[39m1\u001b[39;49m, lambda2\u001b[39m=\u001b[39;49m\u001b[39m1\u001b[39;49m, mu\u001b[39m=\u001b[39;49m\u001b[39m0.5\u001b[39;49m, nu\u001b[39m=\u001b[39;49m\u001b[39m0\u001b[39;49m, dt\u001b[39m=\u001b[39;49m\u001b[39m0.1\u001b[39;49m, num_iterations\u001b[39m=\u001b[39;49m\u001b[39m10\u001b[39;49m)\n\u001b[1;32m      <a href='vscode-notebook-cell:/Users/dianatat/Documents/Master/C2%20Optimisation%20techniques%20for%20CV/Project/week3/to_complete/test.ipynb#W1sZmlsZQ%3D%3D?line=5'>6</a>\u001b[0m segmentation \u001b[39m=\u001b[39m extract_segmentation(phi)\n\u001b[1;32m      <a href='vscode-notebook-cell:/Users/dianatat/Documents/Master/C2%20Optimisation%20techniques%20for%20CV/Project/week3/to_complete/test.ipynb#W1sZmlsZQ%3D%3D?line=7'>8</a>\u001b[0m \u001b[39m# Display the segmentation\u001b[39;00m\n",
      "\u001b[1;32m/Users/dianatat/Documents/Master/C2 Optimisation techniques for CV/Project/week3/to_complete/test.ipynb Cell 3\u001b[0m line \u001b[0;36m2\n\u001b[1;32m     <a href='vscode-notebook-cell:/Users/dianatat/Documents/Master/C2%20Optimisation%20techniques%20for%20CV/Project/week3/to_complete/test.ipynb#W1sZmlsZQ%3D%3D?line=18'>19</a>\u001b[0m \u001b[39mdef\u001b[39;00m \u001b[39mchan_vese_evolution\u001b[39m(image, phi, lambda1, lambda2, mu, nu, dt, num_iterations):\n\u001b[0;32m---> <a href='vscode-notebook-cell:/Users/dianatat/Documents/Master/C2%20Optimisation%20techniques%20for%20CV/Project/week3/to_complete/test.ipynb#W1sZmlsZQ%3D%3D?line=19'>20</a>\u001b[0m     \u001b[39mfor\u001b[39;00m _ \u001b[39min\u001b[39;00m tqdm(\u001b[39mrange\u001b[39m(num_iterations)):\n\u001b[1;32m     <a href='vscode-notebook-cell:/Users/dianatat/Documents/Master/C2%20Optimisation%20techniques%20for%20CV/Project/week3/to_complete/test.ipynb#W1sZmlsZQ%3D%3D?line=20'>21</a>\u001b[0m         c1 \u001b[39m=\u001b[39m np\u001b[39m.\u001b[39mmean(image[phi \u001b[39m<\u001b[39m\u001b[39m=\u001b[39m \u001b[39m0\u001b[39m])\n\u001b[1;32m     <a href='vscode-notebook-cell:/Users/dianatat/Documents/Master/C2%20Optimisation%20techniques%20for%20CV/Project/week3/to_complete/test.ipynb#W1sZmlsZQ%3D%3D?line=21'>22</a>\u001b[0m         c2 \u001b[39m=\u001b[39m np\u001b[39m.\u001b[39mmean(image[phi \u001b[39m>\u001b[39m \u001b[39m0\u001b[39m])\n",
      "\u001b[0;31mNameError\u001b[0m: name 'tqdm' is not defined"
     ]
    }
   ],
   "source": [
    "# Load your image here\n",
    "image = plt.imread(\"/Users/dianatat/Documents/Master/C2 Optimisation techniques for CV/Project/week3/to_complete/image.jpeg\")[:,:,0]  # Assuming a grayscale image or converting it to grayscale\n",
    "\n",
    "phi = initialize_phi(image.shape, type='checkerboard')\n",
    "phi = chan_vese_evolution(image, phi, lambda1=1, lambda2=1, mu=0.5, nu=0, dt=0.1, num_iterations=10)\n",
    "segmentation = extract_segmentation(phi)\n",
    "\n",
    "# Display the segmentation\n",
    "plt.imshow(segmentation, cmap='gray')\n",
    "plt.show()\n"
   ]
  },
  {
   "cell_type": "code",
   "execution_count": null,
   "metadata": {},
   "outputs": [],
   "source": []
  }
 ],
 "metadata": {
  "kernelspec": {
   "display_name": "master",
   "language": "python",
   "name": "python3"
  },
  "language_info": {
   "codemirror_mode": {
    "name": "ipython",
    "version": 3
   },
   "file_extension": ".py",
   "mimetype": "text/x-python",
   "name": "python",
   "nbconvert_exporter": "python",
   "pygments_lexer": "ipython3",
   "version": "3.11.4"
  }
 },
 "nbformat": 4,
 "nbformat_minor": 2
}
