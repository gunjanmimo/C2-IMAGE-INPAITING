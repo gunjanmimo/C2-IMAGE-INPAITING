{
 "cells": [
  {
   "cell_type": "code",
   "execution_count": 8,
   "metadata": {},
   "outputs": [
    {
     "name": "stderr",
     "output_type": "stream",
     "text": [
      "/var/folders/sv/5jxpd34x6hdd46kv5pfxqdh80000gn/T/ipykernel_13756/1837220833.py:4: DeprecationWarning: Please use `gaussian_filter` from the `scipy.ndimage` namespace, the `scipy.ndimage.filters` namespace is deprecated.\n",
      "  from scipy.ndimage.filters import gaussian_filter\n"
     ]
    }
   ],
   "source": [
    "import numpy as np\n",
    "import matplotlib.pyplot as plt\n",
    "from scipy.ndimage import distance_transform_edt\n",
    "from scipy.ndimage.filters import gaussian_filter\n",
    "from tqdm import tqdm\n",
    "def initialize_phi(image_shape, type='checkerboard'):\n",
    "    if type == 'checkerboard':\n",
    "        phi = np.array([[(-1)**(i+j) for j in range(image_shape[1])] for i in range(image_shape[0])])\n",
    "    elif type == 'circle':\n",
    "        center = (image_shape[0] // 2, image_shape[1] // 2)\n",
    "        radius = min(center)\n",
    "        phi = np.array([[radius - np.sqrt((i-center[0])**2 + (j-center[1])**2) for j in range(image_shape[1])] for i in range(image_shape[0])])\n",
    "    return phi\n",
    "\n",
    "def reinitialize_phi(phi, iterations=10):\n",
    "    binary_mask = (phi <= 0).astype(np.int32)\n",
    "    positive_distance = distance_transform_edt(binary_mask)\n",
    "    negative_distance = distance_transform_edt(1 - binary_mask)\n",
    "    signed_distance = positive_distance - negative_distance\n",
    "    for _ in range(iterations):\n",
    "        signed_distance = gaussian_filter(signed_distance, sigma=1)\n",
    "    return signed_distance\n",
    "\n",
    "def chan_vese_evolution(image, phi, lambda1, lambda2, mu, nu, dt, num_iterations):\n",
    "    for _ in tqdm(range(num_iterations)):\n",
    "        c1 = np.mean(image[phi <= 0])\n",
    "        c2 = np.mean(image[phi > 0])\n",
    "        force = mu * (4*image - 2*c1 - 2*c2) - nu\n",
    "        phi = phi + dt * force\n",
    "        if _ % 50 == 0:\n",
    "            phi = reinitialize_phi(phi)\n",
    "    return phi\n",
    "\n",
    "def extract_segmentation(phi):\n",
    "    return np.where(phi <= 0, 1, 0)\n",
    "\n"
   ]
  },
  {
   "cell_type": "code",
   "execution_count": 9,
   "metadata": {},
   "outputs": [
    {
     "name": "stderr",
     "output_type": "stream",
     "text": [
      "/Users/gunjanpaul/anaconda3/envs/master/lib/python3.10/site-packages/numpy/core/fromnumeric.py:3504: RuntimeWarning: Mean of empty slice.\n",
      "  return _methods._mean(a, axis=axis, dtype=dtype,\n",
      "/Users/gunjanpaul/anaconda3/envs/master/lib/python3.10/site-packages/numpy/core/_methods.py:129: RuntimeWarning: invalid value encountered in scalar divide\n",
      "  ret = ret.dtype.type(ret / rcount)\n"
     ]
    }
   ],
   "source": [
    "# Load your image here\n",
    "image = plt.imread(\"./image.jpeg\")[:,:,0]  # Assuming a grayscale image or converting it to grayscale\n",
    "\n",
    "phi = initialize_phi(image.shape, type='checkerboard')\n",
    "phi = chan_vese_evolution(image, phi, lambda1=1, lambda2=1, mu=0.5, nu=0, dt=0.1, num_iterations=10)\n",
    "segmentation = extract_segmentation(phi)\n",
    "\n",
    "# Display the segmentation\n",
    "plt.imshow(segmentation, cmap='gray')\n",
    "plt.show()\n"
   ]
  },
  {
   "cell_type": "code",
   "execution_count": null,
   "metadata": {},
   "outputs": [],
   "source": []
  }
 ],
 "metadata": {
  "kernelspec": {
   "display_name": "master",
   "language": "python",
   "name": "python3"
  },
  "language_info": {
   "codemirror_mode": {
    "name": "ipython",
    "version": 3
   },
   "file_extension": ".py",
   "mimetype": "text/x-python",
   "name": "python",
   "nbconvert_exporter": "python",
   "pygments_lexer": "ipython3",
   "version": "3.10.0"
  }
 },
 "nbformat": 4,
 "nbformat_minor": 2
}
